{
 "cells": [
  {
   "cell_type": "code",
   "execution_count": 1,
   "id": "31ecda65-3297-4341-a279-63cdefe11b96",
   "metadata": {
    "tags": []
   },
   "outputs": [
    {
     "name": "stdout",
     "output_type": "stream",
     "text": [
      "/Users/shogaki/Desktop/master/application/datacollection_exp\n"
     ]
    }
   ],
   "source": [
    "# ライブラリ設定\n",
    "import csv\n",
    "import json\n",
    "import os\n",
    "\n",
    "path = os.getcwd()\n",
    "\n",
    "print(path)"
   ]
  },
  {
   "cell_type": "code",
   "execution_count": 15,
   "id": "f7cc00f2-f916-4645-a34d-5c6737346467",
   "metadata": {
    "tags": []
   },
   "outputs": [],
   "source": [
    "filename = 'Trial01'\n",
    "csv_path = './routine_csv/'+filename+'.csv'\n",
    "json_path = './routine_json/'+filename+'.json'\n",
    "\n",
    "# CSVファイルの読み込み\n",
    "with open(csv_path, 'r', encoding=\"shift-jis\") as f:\n",
    "    d_reader = csv.DictReader(f)\n",
    "    d_list = [row for row in d_reader]\n",
    "    \n",
    "# JSONファイルへの書き込み\n",
    "with open(json_path, 'w') as f:\n",
    "    json.dump(d_list, f, ensure_ascii=False)"
   ]
  }
 ],
 "metadata": {
  "kernelspec": {
   "display_name": "Python 3 (ipykernel)",
   "language": "python",
   "name": "python3"
  },
  "language_info": {
   "codemirror_mode": {
    "name": "ipython",
    "version": 3
   },
   "file_extension": ".py",
   "mimetype": "text/x-python",
   "name": "python",
   "nbconvert_exporter": "python",
   "pygments_lexer": "ipython3",
   "version": "3.9.6"
  }
 },
 "nbformat": 4,
 "nbformat_minor": 5
}
